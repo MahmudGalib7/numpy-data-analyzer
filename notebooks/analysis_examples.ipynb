{
 "cells": [
  {
   "cell_type": "markdown",
   "metadata": {},
   "source": [
    "# NumPy Data Analyzer\n",
    "\n",
    "This notebook provides examples of how to use the classes and methods in the NumPy Data Analyzer project for data analysis and visualization."
   ]
  },
  {
   "cell_type": "code",
   "execution_count": 1,
   "metadata": {},
   "outputs": [],
   "source": [
    "import pandas as pd\n",
    "import numpy as np\n",
    "from src.data_processor import DataProcessor\n",
    "from src.visualizer import DataVisualizer\n",
    "from src.models import StatisticalModel\n",
    "from src.utils import calculate_mean, calculate_median, calculate_std_dev\n",
    "\n",
    "# Load the data\n",
    "data_processor = DataProcessor()\n",
    "data = data_processor.load_data('data/sample_data.csv')\n",
    "\n",
    "# Clean the data\n",
    "cleaned_data = data_processor.clean_data(data)\n",
    "\n",
    "# Analyze the data\n",
    "analysis_results = data_processor.analyze_data(cleaned_data)\n",
    "print(analysis_results)\n"
   ]
  },
  {
   "cell_type": "code",
   "execution_count": 2,
   "metadata": {},
   "outputs": [],
   "source": [
    "# Visualize the data\n",
    "data_visualizer = DataVisualizer()\n",
    "\n",
    "# Plot histogram\n",
    "data_visualizer.plot_histogram(cleaned_data, 'column_name')\n",
    "\n",
    "# Plot scatter\n",
    "data_visualizer.plot_scatter(cleaned_data, 'column_x', 'column_y')\n",
    "\n",
    "# Show correlation matrix\n",
    "data_visualizer.show_correlation_matrix(cleaned_data)\n"
   ]
  },
  {
   "cell_type": "code",
   "execution_count": 3,
   "metadata": {},
   "outputs": [],
   "source": [
    "# Fit a statistical model\n",
    "model = StatisticalModel()\n",
    "model.fit_model(cleaned_data)\n",
    "\n",
    "# Make predictions\n",
    "predictions = model.predict(new_data)\n",
    "print(predictions)\n"
   ]
  },
  {
   "cell_type": "code",
   "execution_count": 4,
   "metadata": {},
   "outputs": [],
   "source": [
    "# Calculate statistics\n",
    "mean_value = calculate_mean(cleaned_data['column_name'])\n",
    "median_value = calculate_median(cleaned_data['column_name'])\n",
    "std_dev_value = calculate_std_dev(cleaned_data['column_name'])\n",
    "\n",
    "print(f'Mean: {mean_value}, Median: {median_value}, Std Dev: {std_dev_value}')"
   ]
  }
 ],
 "metadata": {
  "kernelspec": {
   "display_name": "Python 3",
   "language": "python",
   "name": "python3"
  },
  "language_info": {
   "codemirror_mode": {
    "name": "ipython",
    "version": 3
   },
   "file_extension": ".py",
   "mimetype": "text/x-python",
   "name": "python",
   "nbconvert_exporter": "python",
   "pygments_lexer": "ipython3",
   "version": "3.8.5"
  }
 },
 "nbformat": 4,
 "nbformat_minor": 4
}